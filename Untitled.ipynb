{
 "cells": [
  {
   "cell_type": "markdown",
   "id": "2e9f158b-d6e4-42c2-9e6a-75acec8f129c",
   "metadata": {},
   "source": [
    "# Bab 1. Pendahuluan\n",
    "---"
   ]
  },
  {
   "cell_type": "markdown",
   "id": "10d9e516-c3ac-456a-90da-4a30817dd5d2",
   "metadata": {
    "tags": []
   },
   "source": [
    "## 1.1 Pengertian Deep Learning\n",
    "Deep learning adalah cabang dari kecerdasan buatan (AI) yang menggunakan model\n",
    "matematika yang disebut neural networks. Mengapa disebut __deep?__ Karena model ini\n",
    "menggunakan banyak lapisan proses pemrosesan data, atau apa yang kita kenal dengan\n",
    "__layers__. Setiap layer berisi node yang melakukan serangkaian kalkulasi matematis\n",
    "sederhana, dan masing-masing layer belajar untuk mengenali fitur yang berbeda dari input\n",
    "yang diberikan.\n",
    "\n",
    "Deep learning bisa dipahami sebagai proses pengekstrakan fitur otomatis dari data dan\n",
    "menggunakannya untuk melakukan prediksi atau keputusan. Ini sangat berbeda dari\n",
    "metode pembelajaran mesin tradisional, di mana fitur harus didefinisikan secara manual\n",
    "dan kemudian dikenakan pada model pembelajaran mesin."
   ]
  },
  {
   "cell_type": "markdown",
   "id": "2e9f34c9-3576-4bc8-a5d0-eb7144ea8435",
   "metadata": {},
   "source": [
    "## 1.2 Sejarah dan Perkembangan Deep Learning\n",
    "\n",
    "Konsep dari neural networks bukanlah ide baru. Sebenarnya, ide tersebut telah ada sejak\n",
    "tahun 1940-an. Namun, deep learning sejati baru berjalan ketika kita memiliki komputasi\n",
    "yang cukup kuat untuk melatih jaringan saraf yang __dalam__.\n",
    "\n",
    "Pada dekade 1980-an dan 1990-an, peneliti mulai bereksperimen dengan jaringan yang lebih\n",
    "dalam, tetapi mereka menemui kendala dalam pelatihan model tersebut. Namun,\n",
    "penemuan kembali algoritma backpropagation pada tahun 1986 memberikan solusi atas\n",
    "masalah ini, memungkinkan gradient dari cost function dapat dihitung secara efisien dan\n",
    "digunakan untuk memperbarui bobot dalam jaringan.\n",
    "\n",
    "Perkembangan signifikan berikutnya datang pada tahun 2012, ketika tim peneliti dari\n",
    "University of Toronto memenangkan kompetisi ImageNet menggunakan model deep\n",
    "learning, Convolutional Neural Network (CNN). Prestasi ini membuktikan keunggulan deep\n",
    "learning dalam tugas-tugas yang melibatkan pengolahan gambar.\n",
    "\n",
    "Sejak saat itu, deep learning telah menjadi bagian integral dari berbagai aplikasi dan\n",
    "industri. Kemampuan untuk memproses dan memahami data besar dalam waktu singkat\n",
    "telah mengubah cara kita berinteraksi dengan teknologi dan dunia sekitar kita.\n"
   ]
  },
  {
   "cell_type": "markdown",
   "id": "d4293ae4-ddb0-46c2-8798-e9ee5ba4c2b4",
   "metadata": {},
   "source": [
    "## 1.3 Aplikasi Deep Learning dalam Kehidupan Sehari-hari\n",
    "\n",
    "Deep learning tidak lagi terbatas pada laboratorium penelitian atau aplikasi industri\n",
    "spesifik. Sekarang, aplikasi deep learning bisa ditemukan di berbagai aspek kehidupan\n",
    "sehari-hari.\n",
    "\n",
    "* __Pengenalan Suara:__ Kita bisa melihat penggunaan deep learning dalam asisten virtual seperti Google Assistant, Siri, atau Alexa yang menggunakan pengenalan suara untuk menerima dan memahami perintah.\n",
    "* __Pengenalan Gambar__: Deep learning digunakan dalam teknologi pengenalan wajah yang digunakan oleh Facebook untuk menandai foto atau oleh Apple dalam sistem Face ID. \n",
    "* __Penerjemahan Bahasa:__ Google Translate menggunakan model deep learning yang dikenal sebagai neural machine translation untuk menerjemahkan antar bahasa.\n",
    "* __Rekomendasi Produk:__ Deep learning juga digunakan oleh perusahaan seperti Amazon dan Netflix untuk memberikan rekomendasi produk atau film yang dipersonalisasi.\n",
    "* __Kendaraan Otonom:__ Deep learning memainkan peran penting dalam pengembangan sistem pengendalian otomatis untuk kendaraan otonom, memungkinkan mereka untuk mengenali dan bereaksi terhadap lingkungan sekitarnya. \n",
    "\n",
    "Pendahuluan ini memberi kita gambaran tentang apa itu deep learning, bagaimana\n",
    "perkembangannya, dan bagaimana kita menggunakannya dalam kehidupan sehari-hari.\n",
    "Selanjutnya, kita akan membahas secara mendalam tentang konsep-konsep penting dalam\n",
    "deep learning dan bagaimana menerapkannya.\n"
   ]
  },
  {
   "cell_type": "markdown",
   "id": "4f8ddaec-109f-428e-80e4-fbf400bdef54",
   "metadata": {},
   "source": [
    "# Bab 2. Pengenalan Konsep Dasar Deep Learning\n",
    "---"
   ]
  },
  {
   "cell_type": "markdown",
   "id": "323ac40a-d96f-41e0-af1e-4298dc682987",
   "metadata": {
    "tags": []
   },
   "source": [
    "## 2.1 Neural Networks\n",
    "\n",
    "Neural Networks (Jaringan Saraf) merupakan pondasi utama dari deep learning. Ide\n",
    "dasarnya diambil dari cara kerja otak manusia dalam memproses informasi. Berikut adalah\n",
    "penjelasan singkat dan padat tentang konsep ini:\n",
    "\n",
    "__Struktur Neural Network__\n",
    "\n",
    "Sebuah Neural Network terdiri dari tiga bagian utama:\n",
    "\n",
    "1. __Input Layer:__ Layer ini menerima input data. Setiap neuron dalam layer ini mewakili satu fitur dari data.\n",
    "2. __Hidden Layer(s):__ Layer ini berada di antara input dan output layer. Jumlah hidden layer dan jumlah neuron dalam setiap layer dapat bervariasi, tergantung pada kompleksitas masalah yang sedang dikerjakan.\n",
    "3. __Output Layer:__ Layer ini memberikan hasil akhir dari neural network. Jumlah neuron dalam layer ini biasanya sama dengan jumlah kelas dalam masalah klasifikasi, atau satu neuron untuk masalah regresi.\n",
    "\n",
    "Setiap neuron dalam satu layer terhubung dengan semua neuron di layer selanjutnya.\n",
    "Hubungan ini diberi bobot, yang di-adjust selama proses pelatihan neural network.\n",
    "\n",
    "__Forward Propagation__\n",
    "\n",
    "Ini adalah langkah pertama dalam proses belajar sebuah neural network. Dalam tahap ini,\n",
    "data dikirimkan melalui jaringan dari input layer ke output layer. Setiap neuron mengambil\n",
    "input, mengalikan dengan bobot, menambahkan bias (sebuah nilai konstan untuk\n",
    "memastikan output tidak nol ketika semua input nol), dan kemudian meneruskan hasil\n",
    "melalui fungsi aktivasi.\n",
    "\n",
    "__Fungsi Aktivasi__\n",
    "\n",
    "Fungsi aktivasi bertugas mengubah input neuron menjadi output yang akan diteruskan ke\n",
    "neuron selanjutnya. Ada beberapa jenis fungsi aktivasi, seperti sigmoid, ReLU (Rectified\n",
    "Linear Unit), dan tanh. Pilihan fungsi aktivasi tergantung pada masalah yang sedang\n",
    "dihadapi dan struktur dari neural network itu sendiri.\n",
    "\n",
    "__Backward Propagation dan Penyesuaian Bobot__\n",
    "\n",
    "Setelah forward propagation, neural network akan menghasilkan output. Output ini\n",
    "kemudian dibandingkan dengan output sebenarnya untuk menghitung kesalahan.\n",
    "Kesalahan ini kemudian dipropagasi mundur melalui jaringan (backward propagation),\n",
    "dimana bobot antar neuron di-adjust berdasarkan kesalahan tersebut. Proses ini berulang-ulang hingga kesalahan mencapai nilai minimum atau setelah sejumlah iterasi tertentu.\n",
    "\n",
    "__Learning Rate__\n",
    "Learning rate adalah parameter yang mengontrol seberapa cepat atau lambat kita ingin\n",
    "model kita belajar. Nilai yang sangat kecil dapat membuat proses belajar menjadi sangat\n",
    "lambat, sedangkan nilai yang terlalu besar bisa menyebabkan model melewatkan minimum\n",
    "global dari fungsi kesalahan.\n",
    "\n",
    "\n"
   ]
  },
  {
   "cell_type": "code",
   "execution_count": null,
   "id": "2acdc3b8-513d-4c82-82d3-93388ca0cdd3",
   "metadata": {},
   "outputs": [],
   "source": []
  }
 ],
 "metadata": {
  "kernelspec": {
   "display_name": "Python 3 (ipykernel)",
   "language": "python",
   "name": "python3"
  },
  "language_info": {
   "codemirror_mode": {
    "name": "ipython",
    "version": 3
   },
   "file_extension": ".py",
   "mimetype": "text/x-python",
   "name": "python",
   "nbconvert_exporter": "python",
   "pygments_lexer": "ipython3",
   "version": "3.11.9"
  }
 },
 "nbformat": 4,
 "nbformat_minor": 5
}
